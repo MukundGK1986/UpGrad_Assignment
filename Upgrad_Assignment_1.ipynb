{
 "cells": [
  {
   "cell_type": "markdown",
   "metadata": {},
   "source": [
    "### Code for Term Deposit Subscription by Customers"
   ]
  },
  {
   "cell_type": "markdown",
   "metadata": {},
   "source": [
    "#### Readme: Preprocessing, Standardization and Visualization has been carried out in R.  R script has been uploaded separately."
   ]
  },
  {
   "cell_type": "markdown",
   "metadata": {},
   "source": [
    "To successfully execute the below code, please add the .ipnyb files for Libraries. Below are the same\n",
    "\n",
    "1. ML_Classfication_Libs.ipynb \n",
    "2. ML_Classification_Metrics.ipynb\n",
    "3. Essential_Libs.ipynb\n",
    "\n",
    "Load the above mentioned Libraries\n",
    "Using the external ipynb files to load the libraries. They are divided into 4 categories."
   ]
  },
  {
   "cell_type": "code",
   "execution_count": 1,
   "metadata": {},
   "outputs": [],
   "source": [
    "%run ./ML_Classfication_Libs.ipynb\n",
    "%run ./ML_Classification_Metrics.ipynb\n",
    "%run ./Essential_Libs.ipynb"
   ]
  },
  {
   "cell_type": "markdown",
   "metadata": {},
   "source": [
    "Read the Train and Validation data which is pre-processed in R. "
   ]
  },
  {
   "cell_type": "code",
   "execution_count": 110,
   "metadata": {},
   "outputs": [],
   "source": [
    "train_data = pd.read_csv(\"Upgrad_Train_Std.csv\")\n",
    "val_data = pd.read_csv(\"Upgrad_Val_Std.csv\")"
   ]
  },
  {
   "cell_type": "code",
   "execution_count": 111,
   "metadata": {},
   "outputs": [
    {
     "data": {
      "text/html": [
       "<div>\n",
       "<style scoped>\n",
       "    .dataframe tbody tr th:only-of-type {\n",
       "        vertical-align: middle;\n",
       "    }\n",
       "\n",
       "    .dataframe tbody tr th {\n",
       "        vertical-align: top;\n",
       "    }\n",
       "\n",
       "    .dataframe thead th {\n",
       "        text-align: right;\n",
       "    }\n",
       "</style>\n",
       "<table border=\"1\" class=\"dataframe\">\n",
       "  <thead>\n",
       "    <tr style=\"text-align: right;\">\n",
       "      <th></th>\n",
       "      <th>campaign</th>\n",
       "      <th>previous</th>\n",
       "      <th>emp.var.rate</th>\n",
       "      <th>cons.price.idx</th>\n",
       "      <th>cons.conf.idx</th>\n",
       "      <th>euribor3m</th>\n",
       "      <th>nr.employed</th>\n",
       "      <th>age</th>\n",
       "      <th>job</th>\n",
       "      <th>marital</th>\n",
       "      <th>education</th>\n",
       "      <th>default</th>\n",
       "      <th>housing</th>\n",
       "      <th>loan</th>\n",
       "      <th>poutcome</th>\n",
       "      <th>y</th>\n",
       "    </tr>\n",
       "  </thead>\n",
       "  <tbody>\n",
       "    <tr>\n",
       "      <th>0</th>\n",
       "      <td>-0.56312</td>\n",
       "      <td>-0.348902</td>\n",
       "      <td>0.64393</td>\n",
       "      <td>0.72025</td>\n",
       "      <td>0.881397</td>\n",
       "      <td>0.708776</td>\n",
       "      <td>0.327534</td>\n",
       "      <td>Middle</td>\n",
       "      <td>admin.</td>\n",
       "      <td>married</td>\n",
       "      <td>basic.6y</td>\n",
       "      <td>no</td>\n",
       "      <td>no</td>\n",
       "      <td>no</td>\n",
       "      <td>nonexistent</td>\n",
       "      <td>no</td>\n",
       "    </tr>\n",
       "    <tr>\n",
       "      <th>1</th>\n",
       "      <td>-0.56312</td>\n",
       "      <td>-0.348902</td>\n",
       "      <td>0.64393</td>\n",
       "      <td>0.72025</td>\n",
       "      <td>0.881397</td>\n",
       "      <td>0.708776</td>\n",
       "      <td>0.327534</td>\n",
       "      <td>Middle</td>\n",
       "      <td>services</td>\n",
       "      <td>married</td>\n",
       "      <td>basic.9y</td>\n",
       "      <td>unknown</td>\n",
       "      <td>no</td>\n",
       "      <td>no</td>\n",
       "      <td>nonexistent</td>\n",
       "      <td>no</td>\n",
       "    </tr>\n",
       "  </tbody>\n",
       "</table>\n",
       "</div>"
      ],
      "text/plain": [
       "   campaign  previous  emp.var.rate  cons.price.idx  cons.conf.idx  euribor3m  \\\n",
       "0  -0.56312 -0.348902       0.64393         0.72025       0.881397   0.708776   \n",
       "1  -0.56312 -0.348902       0.64393         0.72025       0.881397   0.708776   \n",
       "\n",
       "   nr.employed     age       job  marital education  default housing loan  \\\n",
       "0     0.327534  Middle    admin.  married  basic.6y       no      no   no   \n",
       "1     0.327534  Middle  services  married  basic.9y  unknown      no   no   \n",
       "\n",
       "      poutcome   y  \n",
       "0  nonexistent  no  \n",
       "1  nonexistent  no  "
      ]
     },
     "execution_count": 111,
     "metadata": {},
     "output_type": "execute_result"
    }
   ],
   "source": [
    "train_data.head(2)"
   ]
  },
  {
   "cell_type": "code",
   "execution_count": 112,
   "metadata": {},
   "outputs": [],
   "source": [
    "train_y = train_data[\"y\"]\n",
    "val_y = val_data[\"y\"]\n",
    "\n",
    "train_data.drop('y', axis = 1, inplace=True)\n",
    "val_data.drop('y', axis = 1, inplace=True)"
   ]
  },
  {
   "cell_type": "code",
   "execution_count": 113,
   "metadata": {},
   "outputs": [
    {
     "data": {
      "text/plain": [
       "campaign          float64\n",
       "previous          float64\n",
       "emp.var.rate      float64\n",
       "cons.price.idx    float64\n",
       "cons.conf.idx     float64\n",
       "euribor3m         float64\n",
       "nr.employed       float64\n",
       "age                object\n",
       "job                object\n",
       "marital            object\n",
       "education          object\n",
       "default            object\n",
       "housing            object\n",
       "loan               object\n",
       "poutcome           object\n",
       "dtype: object"
      ]
     },
     "execution_count": 113,
     "metadata": {},
     "output_type": "execute_result"
    }
   ],
   "source": [
    "train_data.dtypes"
   ]
  },
  {
   "cell_type": "markdown",
   "metadata": {},
   "source": [
    "Conversion to Categorical "
   ]
  },
  {
   "cell_type": "code",
   "execution_count": 118,
   "metadata": {},
   "outputs": [],
   "source": [
    "for col in ['age', 'job', 'marital','education','default','housing','loan','poutcome']:\n",
    "    train_data[col] = train_data[col].astype('category')\n",
    "    \n",
    "for col in ['age', 'job', 'marital','education','default','housing','loan','poutcome']:\n",
    "    val_data[col] = val_data[col].astype('category')"
   ]
  },
  {
   "cell_type": "code",
   "execution_count": 119,
   "metadata": {},
   "outputs": [
    {
     "name": "stdout",
     "output_type": "stream",
     "text": [
      "(28832, 15) (12356, 15)\n"
     ]
    }
   ],
   "source": [
    "print(train_data.shape,val_data.shape)"
   ]
  },
  {
   "cell_type": "code",
   "execution_count": 120,
   "metadata": {},
   "outputs": [],
   "source": [
    "train_num = train_data.select_dtypes(exclude=\"category\")\n",
    "val_num = val_data.select_dtypes(exclude=\"category\")\n",
    "\n",
    "train_cat = train_data.select_dtypes(include=\"category\")\n",
    "val_cat = val_data.select_dtypes(include=\"category\")"
   ]
  },
  {
   "cell_type": "code",
   "execution_count": 121,
   "metadata": {},
   "outputs": [
    {
     "name": "stdout",
     "output_type": "stream",
     "text": [
      "(28832, 7) (28832, 8) (12356, 7) (12356, 8)\n"
     ]
    }
   ],
   "source": [
    "print(train_num.shape, train_cat.shape, val_num.shape, val_cat.shape)"
   ]
  },
  {
   "cell_type": "markdown",
   "metadata": {},
   "source": [
    "Dummyfication"
   ]
  },
  {
   "cell_type": "code",
   "execution_count": 122,
   "metadata": {},
   "outputs": [],
   "source": [
    "train_cat_dum = pd.get_dummies(train_cat,prefix_sep='_',drop_first=True)\n",
    "val_cat_dum = pd.get_dummies(val_cat,prefix_sep='_',drop_first=True)"
   ]
  },
  {
   "cell_type": "code",
   "execution_count": 123,
   "metadata": {},
   "outputs": [
    {
     "name": "stdout",
     "output_type": "stream",
     "text": [
      "(28832, 31) (12356, 31)\n"
     ]
    }
   ],
   "source": [
    "print(train_cat_dum.shape,val_cat_dum.shape)"
   ]
  },
  {
   "cell_type": "code",
   "execution_count": 124,
   "metadata": {},
   "outputs": [],
   "source": [
    "train_x = pd.concat([train_num,train_cat_dum], axis = 1)\n",
    "val_x = pd.concat([val_num,val_cat_dum], axis = 1)"
   ]
  },
  {
   "cell_type": "code",
   "execution_count": 125,
   "metadata": {},
   "outputs": [
    {
     "name": "stdout",
     "output_type": "stream",
     "text": [
      "(28832, 38) (12356, 38)\n"
     ]
    }
   ],
   "source": [
    "print(train_x.shape, val_x.shape)"
   ]
  },
  {
   "cell_type": "code",
   "execution_count": null,
   "metadata": {},
   "outputs": [],
   "source": []
  },
  {
   "cell_type": "markdown",
   "metadata": {},
   "source": [
    "### Model Building"
   ]
  },
  {
   "cell_type": "markdown",
   "metadata": {},
   "source": [
    "### XGBoost Classifier"
   ]
  },
  {
   "cell_type": "code",
   "execution_count": 540,
   "metadata": {},
   "outputs": [],
   "source": [
    "xg_1 = XGBClassifier(learning_rate=0.009,max_depth=25,n_estimators=900,n_jobs=-1,scale_pos_weight=0.6)"
   ]
  },
  {
   "cell_type": "code",
   "execution_count": 541,
   "metadata": {},
   "outputs": [
    {
     "name": "stdout",
     "output_type": "stream",
     "text": [
      "Wall time: 5min 4s\n"
     ]
    },
    {
     "data": {
      "text/plain": [
       "XGBClassifier(base_score=0.5, booster='gbtree', colsample_bylevel=1,\n",
       "       colsample_bytree=1, gamma=0, learning_rate=0.009, max_delta_step=0,\n",
       "       max_depth=25, min_child_weight=1, missing=None, n_estimators=900,\n",
       "       n_jobs=-1, nthread=None, objective='binary:logistic',\n",
       "       random_state=0, reg_alpha=0, reg_lambda=1, scale_pos_weight=0.6,\n",
       "       seed=None, silent=True, subsample=1)"
      ]
     },
     "execution_count": 541,
     "metadata": {},
     "output_type": "execute_result"
    }
   ],
   "source": [
    "%time xg_1.fit(train_x, train_y)"
   ]
  },
  {
   "cell_type": "code",
   "execution_count": 542,
   "metadata": {},
   "outputs": [
    {
     "name": "stdout",
     "output_type": "stream",
     "text": [
      "Wall time: 16.3 s\n"
     ]
    }
   ],
   "source": [
    "%time xg_train = xg_1.predict(train_x)"
   ]
  },
  {
   "cell_type": "code",
   "execution_count": 543,
   "metadata": {},
   "outputs": [
    {
     "name": "stdout",
     "output_type": "stream",
     "text": [
      "Wall time: 5.56 s\n"
     ]
    }
   ],
   "source": [
    "%time xg_val = xg_1.predict(val_x)"
   ]
  },
  {
   "cell_type": "code",
   "execution_count": 544,
   "metadata": {},
   "outputs": [
    {
     "name": "stdout",
     "output_type": "stream",
     "text": [
      "0.9455812985571587\n"
     ]
    }
   ],
   "source": [
    "print(accuracy_score(train_y, xg_train))"
   ]
  },
  {
   "cell_type": "code",
   "execution_count": 545,
   "metadata": {},
   "outputs": [
    {
     "name": "stdout",
     "output_type": "stream",
     "text": [
      "0.8915506636451926\n"
     ]
    }
   ],
   "source": [
    "print(accuracy_score(val_y, xg_val))"
   ]
  },
  {
   "cell_type": "code",
   "execution_count": 546,
   "metadata": {},
   "outputs": [
    {
     "name": "stdout",
     "output_type": "stream",
     "text": [
      "              precision    recall  f1-score   support\n",
      "\n",
      "          no       0.94      1.00      0.97     25584\n",
      "         yes       0.99      0.52      0.68      3248\n",
      "\n",
      "   micro avg       0.95      0.95      0.95     28832\n",
      "   macro avg       0.97      0.76      0.83     28832\n",
      "weighted avg       0.95      0.95      0.94     28832\n",
      "\n"
     ]
    }
   ],
   "source": [
    "print(classification_report(train_y,xg_train))"
   ]
  },
  {
   "cell_type": "code",
   "execution_count": 547,
   "metadata": {},
   "outputs": [
    {
     "name": "stdout",
     "output_type": "stream",
     "text": [
      "              precision    recall  f1-score   support\n",
      "\n",
      "          no       0.91      0.98      0.94     10964\n",
      "         yes       0.55      0.22      0.31      1392\n",
      "\n",
      "   micro avg       0.89      0.89      0.89     12356\n",
      "   macro avg       0.73      0.60      0.63     12356\n",
      "weighted avg       0.87      0.89      0.87     12356\n",
      "\n"
     ]
    }
   ],
   "source": [
    "print(classification_report(val_y,xg_val))"
   ]
  },
  {
   "cell_type": "code",
   "execution_count": 548,
   "metadata": {},
   "outputs": [
    {
     "name": "stdout",
     "output_type": "stream",
     "text": [
      "       0     1\n",
      "0  25571    13\n",
      "1   1556  1692\n"
     ]
    }
   ],
   "source": [
    "cm_train = pd.DataFrame(confusion_matrix(train_y,xg_train));print(cm_train)"
   ]
  },
  {
   "cell_type": "code",
   "execution_count": 549,
   "metadata": {},
   "outputs": [
    {
     "name": "stdout",
     "output_type": "stream",
     "text": [
      "       0    1\n",
      "0  10709  255\n",
      "1   1085  307\n"
     ]
    }
   ],
   "source": [
    "cm_val = pd.DataFrame(confusion_matrix(val_y,xg_val));print(cm_val)"
   ]
  },
  {
   "cell_type": "code",
   "execution_count": null,
   "metadata": {},
   "outputs": [],
   "source": []
  },
  {
   "cell_type": "markdown",
   "metadata": {},
   "source": [
    "### SVC"
   ]
  },
  {
   "cell_type": "code",
   "execution_count": 134,
   "metadata": {},
   "outputs": [],
   "source": [
    "svc_1 = SVC(C=0.01,gamma='scale',class_weight='balanced')"
   ]
  },
  {
   "cell_type": "code",
   "execution_count": 135,
   "metadata": {},
   "outputs": [
    {
     "name": "stdout",
     "output_type": "stream",
     "text": [
      "Wall time: 59.4 s\n"
     ]
    },
    {
     "data": {
      "text/plain": [
       "SVC(C=0.01, cache_size=200, class_weight='balanced', coef0=0.0,\n",
       "  decision_function_shape='ovr', degree=3, gamma='scale', kernel='rbf',\n",
       "  max_iter=-1, probability=False, random_state=None, shrinking=True,\n",
       "  tol=0.001, verbose=False)"
      ]
     },
     "execution_count": 135,
     "metadata": {},
     "output_type": "execute_result"
    }
   ],
   "source": [
    "%time svc_1.fit(train_x,train_y)"
   ]
  },
  {
   "cell_type": "code",
   "execution_count": 136,
   "metadata": {},
   "outputs": [
    {
     "name": "stdout",
     "output_type": "stream",
     "text": [
      "Wall time: 24.6 s\n"
     ]
    }
   ],
   "source": [
    "%time svc_train = svc_1.predict(train_x)"
   ]
  },
  {
   "cell_type": "code",
   "execution_count": 137,
   "metadata": {},
   "outputs": [
    {
     "name": "stdout",
     "output_type": "stream",
     "text": [
      "Wall time: 10.6 s\n"
     ]
    }
   ],
   "source": [
    "%time svc_val = svc_1.predict(val_x)"
   ]
  },
  {
   "cell_type": "code",
   "execution_count": 138,
   "metadata": {},
   "outputs": [
    {
     "name": "stdout",
     "output_type": "stream",
     "text": [
      "0.7205882352941176\n"
     ]
    }
   ],
   "source": [
    "print(accuracy_score(train_y, svc_train))"
   ]
  },
  {
   "cell_type": "code",
   "execution_count": 139,
   "metadata": {},
   "outputs": [
    {
     "name": "stdout",
     "output_type": "stream",
     "text": [
      "0.7180317254775008\n"
     ]
    }
   ],
   "source": [
    "print(accuracy_score(val_y, svc_val))"
   ]
  },
  {
   "cell_type": "code",
   "execution_count": 140,
   "metadata": {},
   "outputs": [
    {
     "name": "stdout",
     "output_type": "stream",
     "text": [
      "              precision    recall  f1-score   support\n",
      "\n",
      "          no       0.95      0.72      0.82     25584\n",
      "         yes       0.24      0.71      0.36      3248\n",
      "\n",
      "   micro avg       0.72      0.72      0.72     28832\n",
      "   macro avg       0.60      0.71      0.59     28832\n",
      "weighted avg       0.87      0.72      0.77     28832\n",
      "\n"
     ]
    }
   ],
   "source": [
    "print(classification_report(train_y,svc_train))"
   ]
  },
  {
   "cell_type": "code",
   "execution_count": 141,
   "metadata": {},
   "outputs": [
    {
     "name": "stdout",
     "output_type": "stream",
     "text": [
      "              precision    recall  f1-score   support\n",
      "\n",
      "          no       0.95      0.72      0.82     10964\n",
      "         yes       0.25      0.72      0.37      1392\n",
      "\n",
      "   micro avg       0.72      0.72      0.72     12356\n",
      "   macro avg       0.60      0.72      0.59     12356\n",
      "weighted avg       0.87      0.72      0.77     12356\n",
      "\n"
     ]
    }
   ],
   "source": [
    "print(classification_report(val_y,svc_val))"
   ]
  },
  {
   "cell_type": "code",
   "execution_count": 142,
   "metadata": {},
   "outputs": [
    {
     "name": "stdout",
     "output_type": "stream",
     "text": [
      "       0     1\n",
      "0  18481  7103\n",
      "1    953  2295\n"
     ]
    }
   ],
   "source": [
    "cm_train = pd.DataFrame(confusion_matrix(train_y,svc_train));print(cm_train)"
   ]
  },
  {
   "cell_type": "code",
   "execution_count": 143,
   "metadata": {},
   "outputs": [
    {
     "name": "stdout",
     "output_type": "stream",
     "text": [
      "      0     1\n",
      "0  7867  3097\n",
      "1   387  1005\n"
     ]
    }
   ],
   "source": [
    "cm_val = pd.DataFrame(confusion_matrix(val_y,svc_val));print(cm_val)"
   ]
  },
  {
   "cell_type": "code",
   "execution_count": null,
   "metadata": {},
   "outputs": [],
   "source": []
  },
  {
   "cell_type": "markdown",
   "metadata": {},
   "source": [
    "### ADA Boost"
   ]
  },
  {
   "cell_type": "code",
   "execution_count": 641,
   "metadata": {},
   "outputs": [],
   "source": [
    "ada_11 = AdaBoostClassifier()"
   ]
  },
  {
   "cell_type": "code",
   "execution_count": 642,
   "metadata": {},
   "outputs": [
    {
     "name": "stdout",
     "output_type": "stream",
     "text": [
      "Wall time: 2.1 s\n"
     ]
    },
    {
     "data": {
      "text/plain": [
       "AdaBoostClassifier(algorithm='SAMME.R', base_estimator=None,\n",
       "          learning_rate=1.0, n_estimators=50, random_state=None)"
      ]
     },
     "execution_count": 642,
     "metadata": {},
     "output_type": "execute_result"
    }
   ],
   "source": [
    " %time ada_11.fit(train_x,train_y)"
   ]
  },
  {
   "cell_type": "code",
   "execution_count": 643,
   "metadata": {},
   "outputs": [
    {
     "name": "stdout",
     "output_type": "stream",
     "text": [
      "Wall time: 209 ms\n"
     ]
    }
   ],
   "source": [
    "%time ada_train = ada_11.predict(train_x)"
   ]
  },
  {
   "cell_type": "code",
   "execution_count": 644,
   "metadata": {},
   "outputs": [
    {
     "name": "stdout",
     "output_type": "stream",
     "text": [
      "Wall time: 76.8 ms\n"
     ]
    }
   ],
   "source": [
    "%time ada_val = ada_11.predict(val_x)"
   ]
  },
  {
   "cell_type": "code",
   "execution_count": 645,
   "metadata": {},
   "outputs": [
    {
     "name": "stdout",
     "output_type": "stream",
     "text": [
      "0.8994519977802442\n"
     ]
    }
   ],
   "source": [
    "print(accuracy_score(train_y, ada_train))"
   ]
  },
  {
   "cell_type": "code",
   "execution_count": 646,
   "metadata": {},
   "outputs": [
    {
     "name": "stdout",
     "output_type": "stream",
     "text": [
      "0.8982680479119456\n"
     ]
    }
   ],
   "source": [
    "print(accuracy_score(val_y, ada_val))"
   ]
  },
  {
   "cell_type": "code",
   "execution_count": 647,
   "metadata": {},
   "outputs": [
    {
     "name": "stdout",
     "output_type": "stream",
     "text": [
      "              precision    recall  f1-score   support\n",
      "\n",
      "          no       0.91      0.99      0.95     25584\n",
      "         yes       0.67      0.21      0.32      3248\n",
      "\n",
      "   micro avg       0.90      0.90      0.90     28832\n",
      "   macro avg       0.79      0.60      0.63     28832\n",
      "weighted avg       0.88      0.90      0.88     28832\n",
      "\n"
     ]
    }
   ],
   "source": [
    "print(classification_report(train_y,ada_train))"
   ]
  },
  {
   "cell_type": "code",
   "execution_count": 648,
   "metadata": {},
   "outputs": [
    {
     "name": "stdout",
     "output_type": "stream",
     "text": [
      "              precision    recall  f1-score   support\n",
      "\n",
      "          no       0.91      0.99      0.95     10964\n",
      "         yes       0.65      0.21      0.31      1392\n",
      "\n",
      "   micro avg       0.90      0.90      0.90     12356\n",
      "   macro avg       0.78      0.60      0.63     12356\n",
      "weighted avg       0.88      0.90      0.87     12356\n",
      "\n"
     ]
    }
   ],
   "source": [
    "print(classification_report(val_y,ada_val))"
   ]
  },
  {
   "cell_type": "code",
   "execution_count": 649,
   "metadata": {},
   "outputs": [
    {
     "name": "stdout",
     "output_type": "stream",
     "text": [
      "       0    1\n",
      "0  25253  331\n",
      "1   2568  680\n"
     ]
    }
   ],
   "source": [
    "cm_train = pd.DataFrame(confusion_matrix(train_y,ada_train));print(cm_train)"
   ]
  },
  {
   "cell_type": "code",
   "execution_count": 650,
   "metadata": {},
   "outputs": [
    {
     "name": "stdout",
     "output_type": "stream",
     "text": [
      "       0    1\n",
      "0  10811  153\n",
      "1   1104  288\n"
     ]
    }
   ],
   "source": [
    "cm_val = pd.DataFrame(confusion_matrix(val_y,ada_val));print(cm_val)"
   ]
  },
  {
   "cell_type": "markdown",
   "metadata": {},
   "source": [
    "### ADABoost Fine Tuning"
   ]
  },
  {
   "cell_type": "code",
   "execution_count": 631,
   "metadata": {},
   "outputs": [],
   "source": [
    "ada_1 = AdaBoostClassifier(n_estimators=700,learning_rate=0.004)"
   ]
  },
  {
   "cell_type": "code",
   "execution_count": 632,
   "metadata": {},
   "outputs": [
    {
     "name": "stdout",
     "output_type": "stream",
     "text": [
      "Wall time: 28.4 s\n"
     ]
    },
    {
     "data": {
      "text/plain": [
       "AdaBoostClassifier(algorithm='SAMME.R', base_estimator=None,\n",
       "          learning_rate=0.004, n_estimators=700, random_state=None)"
      ]
     },
     "execution_count": 632,
     "metadata": {},
     "output_type": "execute_result"
    }
   ],
   "source": [
    "%time ada_1.fit(train_x,train_y)"
   ]
  },
  {
   "cell_type": "code",
   "execution_count": 633,
   "metadata": {},
   "outputs": [
    {
     "name": "stdout",
     "output_type": "stream",
     "text": [
      "Wall time: 3.05 s\n"
     ]
    }
   ],
   "source": [
    "%time ada_train = ada_1.predict(train_x)"
   ]
  },
  {
   "cell_type": "code",
   "execution_count": 634,
   "metadata": {},
   "outputs": [
    {
     "name": "stdout",
     "output_type": "stream",
     "text": [
      "Wall time: 974 ms\n"
     ]
    }
   ],
   "source": [
    "%time ada_val = ada_1.predict(val_x)"
   ]
  },
  {
   "cell_type": "code",
   "execution_count": 635,
   "metadata": {},
   "outputs": [
    {
     "name": "stdout",
     "output_type": "stream",
     "text": [
      "0.8994866814650389\n"
     ]
    }
   ],
   "source": [
    "print(accuracy_score(train_y, ada_train))"
   ]
  },
  {
   "cell_type": "code",
   "execution_count": 636,
   "metadata": {},
   "outputs": [
    {
     "name": "stdout",
     "output_type": "stream",
     "text": [
      "0.8987536419553254\n"
     ]
    }
   ],
   "source": [
    "print(accuracy_score(val_y, ada_val))"
   ]
  },
  {
   "cell_type": "code",
   "execution_count": 637,
   "metadata": {},
   "outputs": [
    {
     "name": "stdout",
     "output_type": "stream",
     "text": [
      "              precision    recall  f1-score   support\n",
      "\n",
      "          no       0.90      0.99      0.95     25584\n",
      "         yes       0.73      0.17      0.28      3248\n",
      "\n",
      "   micro avg       0.90      0.90      0.90     28832\n",
      "   macro avg       0.82      0.58      0.61     28832\n",
      "weighted avg       0.88      0.90      0.87     28832\n",
      "\n"
     ]
    }
   ],
   "source": [
    "print(classification_report(train_y,ada_train))"
   ]
  },
  {
   "cell_type": "code",
   "execution_count": 638,
   "metadata": {},
   "outputs": [
    {
     "name": "stdout",
     "output_type": "stream",
     "text": [
      "              precision    recall  f1-score   support\n",
      "\n",
      "          no       0.90      0.99      0.95     10964\n",
      "         yes       0.71      0.17      0.28      1392\n",
      "\n",
      "   micro avg       0.90      0.90      0.90     12356\n",
      "   macro avg       0.80      0.58      0.61     12356\n",
      "weighted avg       0.88      0.90      0.87     12356\n",
      "\n"
     ]
    }
   ],
   "source": [
    "print(classification_report(val_y,ada_val))"
   ]
  },
  {
   "cell_type": "code",
   "execution_count": 639,
   "metadata": {},
   "outputs": [
    {
     "name": "stdout",
     "output_type": "stream",
     "text": [
      "       0    1\n",
      "0  25372  212\n",
      "1   2686  562\n"
     ]
    }
   ],
   "source": [
    "cm_train = pd.DataFrame(confusion_matrix(train_y,ada_train));print(cm_train)"
   ]
  },
  {
   "cell_type": "code",
   "execution_count": 640,
   "metadata": {},
   "outputs": [
    {
     "name": "stdout",
     "output_type": "stream",
     "text": [
      "       0    1\n",
      "0  10863  101\n",
      "1   1150  242\n"
     ]
    }
   ],
   "source": [
    "cm_val = pd.DataFrame(confusion_matrix(val_y,ada_val));print(cm_val)"
   ]
  },
  {
   "cell_type": "markdown",
   "metadata": {},
   "source": [
    "### Random Forest"
   ]
  },
  {
   "cell_type": "code",
   "execution_count": 600,
   "metadata": {},
   "outputs": [],
   "source": [
    "rfc_1 = RandomForestClassifier(n_estimators=900,class_weight='balanced',n_jobs=-1,max_depth=3,max_leaf_nodes=6,\n",
    "                               min_samples_leaf=100)"
   ]
  },
  {
   "cell_type": "code",
   "execution_count": 601,
   "metadata": {},
   "outputs": [
    {
     "name": "stdout",
     "output_type": "stream",
     "text": [
      "Wall time: 5.49 s\n"
     ]
    },
    {
     "data": {
      "text/plain": [
       "RandomForestClassifier(bootstrap=True, class_weight='balanced',\n",
       "            criterion='gini', max_depth=3, max_features='auto',\n",
       "            max_leaf_nodes=6, min_impurity_decrease=0.0,\n",
       "            min_impurity_split=None, min_samples_leaf=100,\n",
       "            min_samples_split=2, min_weight_fraction_leaf=0.0,\n",
       "            n_estimators=900, n_jobs=-1, oob_score=False,\n",
       "            random_state=None, verbose=0, warm_start=False)"
      ]
     },
     "execution_count": 601,
     "metadata": {},
     "output_type": "execute_result"
    }
   ],
   "source": [
    "%time rfc_1.fit(train_x,train_y)"
   ]
  },
  {
   "cell_type": "code",
   "execution_count": 602,
   "metadata": {},
   "outputs": [
    {
     "name": "stdout",
     "output_type": "stream",
     "text": [
      "Wall time: 2.27 s\n"
     ]
    }
   ],
   "source": [
    "%time rfc_train = rfc_1.predict(train_x)"
   ]
  },
  {
   "cell_type": "code",
   "execution_count": 603,
   "metadata": {},
   "outputs": [
    {
     "name": "stdout",
     "output_type": "stream",
     "text": [
      "Wall time: 1.45 s\n"
     ]
    }
   ],
   "source": [
    "%time rfc_val = rfc_1.predict(val_x)"
   ]
  },
  {
   "cell_type": "code",
   "execution_count": 604,
   "metadata": {},
   "outputs": [
    {
     "name": "stdout",
     "output_type": "stream",
     "text": [
      "0.7633185349611543\n"
     ]
    }
   ],
   "source": [
    "print(accuracy_score(train_y, rfc_train))"
   ]
  },
  {
   "cell_type": "code",
   "execution_count": 605,
   "metadata": {},
   "outputs": [
    {
     "name": "stdout",
     "output_type": "stream",
     "text": [
      "0.7641631595985756\n"
     ]
    }
   ],
   "source": [
    "print(accuracy_score(val_y, rfc_val))"
   ]
  },
  {
   "cell_type": "code",
   "execution_count": 606,
   "metadata": {},
   "outputs": [
    {
     "name": "stdout",
     "output_type": "stream",
     "text": [
      "              precision    recall  f1-score   support\n",
      "\n",
      "          no       0.95      0.77      0.85     25584\n",
      "         yes       0.28      0.68      0.39      3248\n",
      "\n",
      "   micro avg       0.76      0.76      0.76     28832\n",
      "   macro avg       0.61      0.73      0.62     28832\n",
      "weighted avg       0.87      0.76      0.80     28832\n",
      "\n"
     ]
    }
   ],
   "source": [
    "print(classification_report(train_y,rfc_train))"
   ]
  },
  {
   "cell_type": "code",
   "execution_count": 607,
   "metadata": {},
   "outputs": [
    {
     "name": "stdout",
     "output_type": "stream",
     "text": [
      "              precision    recall  f1-score   support\n",
      "\n",
      "          no       0.95      0.77      0.85     10964\n",
      "         yes       0.28      0.69      0.40      1392\n",
      "\n",
      "   micro avg       0.76      0.76      0.76     12356\n",
      "   macro avg       0.62      0.73      0.63     12356\n",
      "weighted avg       0.88      0.76      0.80     12356\n",
      "\n"
     ]
    }
   ],
   "source": [
    "print(classification_report(val_y,rfc_val))"
   ]
  },
  {
   "cell_type": "code",
   "execution_count": 608,
   "metadata": {},
   "outputs": [
    {
     "name": "stdout",
     "output_type": "stream",
     "text": [
      "       0     1\n",
      "0  19792  5792\n",
      "1   1032  2216\n"
     ]
    }
   ],
   "source": [
    "cm_train = pd.DataFrame(confusion_matrix(train_y,rfc_train));print(cm_train)"
   ]
  },
  {
   "cell_type": "code",
   "execution_count": 609,
   "metadata": {},
   "outputs": [
    {
     "name": "stdout",
     "output_type": "stream",
     "text": [
      "      0     1\n",
      "0  8480  2484\n",
      "1   430   962\n"
     ]
    }
   ],
   "source": [
    "cm_val = pd.DataFrame(confusion_matrix(val_y,rfc_val));print(cm_val)"
   ]
  },
  {
   "cell_type": "code",
   "execution_count": null,
   "metadata": {},
   "outputs": [],
   "source": []
  }
 ],
 "metadata": {
  "kernelspec": {
   "display_name": "Python 3",
   "language": "python",
   "name": "python3"
  },
  "language_info": {
   "codemirror_mode": {
    "name": "ipython",
    "version": 3
   },
   "file_extension": ".py",
   "mimetype": "text/x-python",
   "name": "python",
   "nbconvert_exporter": "python",
   "pygments_lexer": "ipython3",
   "version": "3.6.5"
  }
 },
 "nbformat": 4,
 "nbformat_minor": 2
}
